{
 "cells": [
  {
   "cell_type": "code",
   "execution_count": 3,
   "metadata": {},
   "outputs": [],
   "source": [
    "import numpy as np\n",
    "import pandas as pd\n",
    "import yfinance as yf\n"
   ]
  },
  {
   "cell_type": "code",
   "execution_count": 4,
   "metadata": {},
   "outputs": [
    {
     "name": "stdout",
     "output_type": "stream",
     "text": [
      "^GSPC: S&P 500\n",
      "^DJI: Dow Jones Industrial Average\n",
      "^IXIC: NASDAQ Composite\n",
      "^RUT: Russell 2000\n",
      "^FTSE: FTSE 100\n",
      "^N225: Nikkei 225\n",
      "^HSI: HANG SENG INDEX\n",
      "^AXJO: S&P/ASX 200\n",
      "^STOXX50E: ESTX 50 PR.EUR\n",
      "^BSESN: S&P BSE SENSEX\n"
     ]
    }
   ],
   "source": [
    "\n",
    "# List of common index tickers\n",
    "index_tickers = [\n",
    "    \"^GSPC\",  # S&P 500\n",
    "    \"^DJI\",   # Dow Jones Industrial Average\n",
    "    \"^IXIC\",  # NASDAQ Composite\n",
    "    \"^RUT\",   # Russell 2000\n",
    "    \"^FTSE\",  # FTSE 100\n",
    "    \"^N225\",  # Nikkei 225\n",
    "    \"^HSI\",   # Hang Seng Index\n",
    "    \"^AXJO\",  # S&P/ASX 200\n",
    "    \"^STOXX50E\", # Euro Stoxx 50\n",
    "    \"^BSESN\"  # BSE Sensex\n",
    "]\n",
    "\n",
    "indices = {}\n",
    "\n",
    "for ticker in index_tickers:\n",
    "    index_info = yf.Ticker(ticker)\n",
    "    indices[ticker] = index_info.info.get('longName', 'N/A')\n",
    "\n",
    "# Print index names\n",
    "for ticker, name in indices.items():\n",
    "    print(f\"{ticker}: {name}\")\n"
   ]
  },
  {
   "cell_type": "code",
   "execution_count": 5,
   "metadata": {},
   "outputs": [],
   "source": [
    "nse_index_tickers = [\n",
    "    \"^NSEI\",    # Nifty 50\n",
    "    \"^CNX100\",  # Nifty 100\n",
    "    \"^NSEBANK\", # Nifty Bank\n",
    "    \"^CNXAUTO\", # Nifty Auto\n",
    "    \"^CNXPHARMA\", # Nifty Pharma\n",
    "    \"^CNXIT\",   # Nifty IT\n",
    "    \"^CNXREALTY\", # Nifty Realty\n",
    "    \"^CNXPSU\",  # Nifty PSU Bank\n",
    "    \"^CNXINFRA\" # Nifty Infrastructure\n",
    "]\n"
   ]
  },
  {
   "cell_type": "code",
   "execution_count": 6,
   "metadata": {},
   "outputs": [
    {
     "data": {
      "text/plain": [
       "['^GSPC',\n",
       " '^DJI',\n",
       " '^IXIC',\n",
       " '^RUT',\n",
       " '^FTSE',\n",
       " '^N225',\n",
       " '^HSI',\n",
       " '^AXJO',\n",
       " '^STOXX50E',\n",
       " '^BSESN']"
      ]
     },
     "execution_count": 6,
     "metadata": {},
     "output_type": "execute_result"
    }
   ],
   "source": [
    "index_tickers"
   ]
  },
  {
   "cell_type": "code",
   "execution_count": 9,
   "metadata": {},
   "outputs": [
    {
     "name": "stderr",
     "output_type": "stream",
     "text": [
      "404 Client Error: Not Found for url: https://query2.finance.yahoo.com/v10/finance/quoteSummary/%5ECNXPSU?modules=financialData%2CquoteType%2CdefaultKeyStatistics%2CassetProfile%2CsummaryDetail&corsDomain=finance.yahoo.com&formatted=false&symbol=%5ECNXPSU&crumb=KtvuY4G16Wr\n"
     ]
    },
    {
     "name": "stdout",
     "output_type": "stream",
     "text": [
      "^NSEI: NIFTY 50\n",
      "^CNX100: NIFTY 100\n",
      "^NSEBANK: NIFTY BANK\n",
      "^CNXAUTO: NIFTY AUTO\n",
      "^CNXPHARMA: NIFTY PHARMA\n",
      "^CNXIT: NIFTY IT\n",
      "^CNXREALTY: NIFTY REALTY\n",
      "^CNXPSU: N/A\n",
      "^CNXINFRA: NIFTY INFRA\n"
     ]
    }
   ],
   "source": [
    "indices_info = {}\n",
    "\n",
    "for ticker in nse_index_tickers:\n",
    "    try:\n",
    "        index = yf.Ticker(ticker)\n",
    "        long_name = index.info.get('longName', 'N/A')\n",
    "        indices_info[ticker] = long_name\n",
    "    except Exception as e:\n",
    "        indices_info[ticker] = f\"Error: {e}\"\n",
    "\n",
    "# Print the index names\n",
    "for ticker, name in indices_info.items():\n",
    "    print(f\"{ticker}: {name}\")\n"
   ]
  },
  {
   "cell_type": "code",
   "execution_count": null,
   "metadata": {},
   "outputs": [],
   "source": []
  }
 ],
 "metadata": {
  "kernelspec": {
   "display_name": "base",
   "language": "python",
   "name": "python3"
  },
  "language_info": {
   "codemirror_mode": {
    "name": "ipython",
    "version": 3
   },
   "file_extension": ".py",
   "mimetype": "text/x-python",
   "name": "python",
   "nbconvert_exporter": "python",
   "pygments_lexer": "ipython3",
   "version": "3.11.5"
  }
 },
 "nbformat": 4,
 "nbformat_minor": 2
}
