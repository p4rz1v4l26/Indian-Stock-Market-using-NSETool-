{
 "cells": [
  {
   "cell_type": "code",
   "execution_count": 1,
   "metadata": {},
   "outputs": [],
   "source": [
    "import warnings\n",
    "warnings. simplefilter(action='ignore', category=Warning)\n",
    "import pandas as pd\n",
    "import numpy as np"
   ]
  },
  {
   "cell_type": "code",
   "execution_count": 6,
   "metadata": {},
   "outputs": [],
   "source": [
    "def GoldenCrossverSignal(name):\n",
    "    path = f'./Datasets/{name}.csv'\n",
    "    data = pd.read_csv(path, parse_dates=['Date'], index_col='Date')\n",
    "    data['Prev_Close'] = data.Close.shift(1)\n",
    "    data['20_SMA'] = data.Prev_Close.rolling(window=20, min_periods=1).mean()\n",
    "    data['50_SMA'] = data.Prev_Close.rolling(window=50, min_periods=1).mean()\n",
    "    data['Signal'] = 0\n",
    "    data['Signal'] = np.where(data['20_SMA'] > data['50_SMA'], 1, 0)\n",
    "    data['Position'] = data.Signal.diff()\n",
    "    df_pos = data[(data['Position'] == 1) | (data['Position'] == -1)].copy()\n",
    "    df_pos['Position'] = df_pos['Position'].apply(lambda x: 'Buy' if x == 1 else 'Sell')\n",
    "    return df_pos"
   ]
  },
  {
   "cell_type": "code",
   "execution_count": 14,
   "metadata": {},
   "outputs": [],
   "source": [
    "data = GoldenCrossverSignal('RELIANCE')\n"
   ]
  },
  {
   "cell_type": "code",
   "execution_count": 15,
   "metadata": {},
   "outputs": [],
   "source": [
    "required_df = data[(data.index >= data[data['Position'] == 'Buy'].index[0]) & (data.index <= data[data['Position'] == 'Sell'].index[-1])]\n"
   ]
  },
  {
   "cell_type": "code",
   "execution_count": 16,
   "metadata": {},
   "outputs": [
    {
     "data": {
      "text/plain": [
       "Timestamp('2024-05-03 00:00:00')"
      ]
     },
     "execution_count": 16,
     "metadata": {},
     "output_type": "execute_result"
    }
   ],
   "source": [
    "data[data['Position'] == 'Sell'].index[-1]\n"
   ]
  },
  {
   "cell_type": "code",
   "execution_count": 17,
   "metadata": {},
   "outputs": [],
   "source": [
    "class Backtest:\n",
    "    def __init__(self):\n",
    "        self.columns = ['Equity Name', 'Trade', 'Entry Time', 'Entry Price', 'Exit Time', 'Exit Price', 'Quantity', 'Position Size', 'PNL', '% PNL']\n",
    "        self.backtesting = pd.DataFrame(columns=self.columns)\n",
    "\n",
    "    def buy(self, equity_name, entry_time, entry_price, qty):\n",
    "        self.trade_log = dict(zip(self.columns, [None] * len(self.columns)))\n",
    "        self.trade_log['Trade'] = 'Long Open'\n",
    "        self.trade_log['Quantity'] = qty\n",
    "        self.trade_log['Position Size'] = round(self.trade_log['Quantity'] * entry_price, 3)\n",
    "        self.trade_log['Equity Name'] = equity_name\n",
    "        self.trade_log['Entry Time'] = entry_time\n",
    "        self.trade_log['Entry Price'] = round(entry_price, 2)\n",
    "\n",
    "    def sell(self, exit_time, exit_price, exit_type, charge):\n",
    "        self.trade_log['Trade'] = 'Long Closed'\n",
    "        self.trade_log['Exit Time'] = exit_time\n",
    "        self.trade_log['Exit Price'] = round(exit_price, 2)\n",
    "        self.trade_log['Exit Type'] = exit_type\n",
    "        self.trade_log['PNL'] = round((self.trade_log['Exit Price'] - self.trade_log['Entry Price']) * self.trade_log['Quantity'] - charge, 3)\n",
    "        self.trade_log['% PNL'] = round((self.trade_log['PNL'] / self.trade_log['Position Size']) * 100, 3)\n",
    "        self.trade_log['Holding Period'] = exit_time - self.trade_log['Entry Time']\n",
    "        self.backtesting = self.backtesting.append(self.trade_log, ignore_index=True)"
   ]
  },
  {
   "cell_type": "code",
   "execution_count": null,
   "metadata": {},
   "outputs": [],
   "source": []
  },
  {
   "cell_type": "code",
   "execution_count": null,
   "metadata": {},
   "outputs": [],
   "source": []
  }
 ],
 "metadata": {
  "kernelspec": {
   "display_name": "base",
   "language": "python",
   "name": "python3"
  },
  "language_info": {
   "codemirror_mode": {
    "name": "ipython",
    "version": 3
   },
   "file_extension": ".py",
   "mimetype": "text/x-python",
   "name": "python",
   "nbconvert_exporter": "python",
   "pygments_lexer": "ipython3",
   "version": "3.11.5"
  }
 },
 "nbformat": 4,
 "nbformat_minor": 2
}
